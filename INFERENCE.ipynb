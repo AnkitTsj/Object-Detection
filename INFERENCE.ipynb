{
 "cells": [
  {
   "cell_type": "code",
   "id": "initial_id",
   "metadata": {
    "collapsed": true,
    "ExecuteTime": {
     "end_time": "2024-09-15T03:30:15.119062Z",
     "start_time": "2024-09-15T03:30:08.003890Z"
    }
   },
   "source": [
    "from MODEL import MobileNetInspiredDetector\n",
    "import torch\n",
    "from torchvision.utils import draw_bounding_boxes\n",
    "from torchvision.ops import nms\n",
    "import random\n",
    "import json\n",
    "import os\n",
    "import numpy as np\n",
    "from PIL import Image\n",
    "from torch import topk\n",
    "from torch.nn.functional import interpolate"
   ],
   "outputs": [],
   "execution_count": 1
  },
  {
   "metadata": {
    "ExecuteTime": {
     "end_time": "2024-09-15T03:30:21.273246Z",
     "start_time": "2024-09-15T03:30:21.117963Z"
    }
   },
   "cell_type": "code",
   "source": "weights = torch.load(\"ultramobileweights.ckpt\",weights_only=True)",
   "id": "c1041e3c6ef917fa",
   "outputs": [],
   "execution_count": 3
  },
  {
   "metadata": {
    "ExecuteTime": {
     "end_time": "2024-09-15T03:30:22.734978Z",
     "start_time": "2024-09-15T03:30:22.678151Z"
    }
   },
   "cell_type": "code",
   "source": [
    "model = MobileNetInspiredDetector(num_classes=1,boxes = 5,input_ch=3)\n",
    "model.load_state_dict(weights['model_state_dict'])"
   ],
   "id": "5f72893cc11cc516",
   "outputs": [
    {
     "data": {
      "text/plain": [
       "<All keys matched successfully>"
      ]
     },
     "execution_count": 4,
     "metadata": {},
     "output_type": "execute_result"
    }
   ],
   "execution_count": 4
  },
  {
   "metadata": {
    "ExecuteTime": {
     "end_time": "2024-09-15T03:30:24.236403Z",
     "start_time": "2024-09-15T03:30:24.232170Z"
    }
   },
   "cell_type": "code",
   "source": [
    "ann_path = \"D:/image_detection_data/annotation/annotation.json\"\n",
    "img_path = \"D:/image_detection_data/images/\""
   ],
   "id": "9ab1824c6d20f22e",
   "outputs": [],
   "execution_count": 5
  },
  {
   "metadata": {
    "ExecuteTime": {
     "end_time": "2024-09-15T03:30:30.140906Z",
     "start_time": "2024-09-15T03:30:25.658402Z"
    }
   },
   "cell_type": "code",
   "source": "ann = json.load(open(ann_path))",
   "id": "59ac4012a54b0192",
   "outputs": [],
   "execution_count": 6
  },
  {
   "metadata": {
    "ExecuteTime": {
     "end_time": "2024-09-15T03:32:01.249804Z",
     "start_time": "2024-09-15T03:32:01.024511Z"
    }
   },
   "cell_type": "code",
   "source": [
    "annotation = ann['annotations']\n",
    "chosen_ann = random.choice(annotation)\n",
    "id = chosen_ann['image_id']\n",
    "img_name = ann['images'][id]['file_name'] \n",
    "# img_dir =  \"C:/Users/Ankit Kumar/Downloads/man_img.png\"\n",
    "img_dir = img_path + img_name\n",
    "box = chosen_ann['bbox']\n",
    "box_t = torch.tensor(box)\n",
    "print(box_t.shape)\n",
    "img = Image.open(img_dir).convert('RGB')\n",
    "img_arr = np.array(img)\n",
    "img_tensor = torch.tensor(img_arr)\n",
    "p_it = img_tensor.permute(2,0,1)\n",
    "d_ip = draw_bounding_boxes(p_it,box_t,width=3)\n",
    "d_arr = np.array(d_ip.permute(1,2,0), dtype=np.uint8)\n",
    "d_img = Image.fromarray(d_arr)\n",
    "d_img.show()\n"
   ],
   "id": "5def60b603d326a2",
   "outputs": [
    {
     "name": "stdout",
     "output_type": "stream",
     "text": [
      "torch.Size([1, 4])\n"
     ]
    }
   ],
   "execution_count": 18
  },
  {
   "metadata": {
    "ExecuteTime": {
     "end_time": "2024-09-15T03:32:03.837834Z",
     "start_time": "2024-09-15T03:32:03.108210Z"
    }
   },
   "cell_type": "code",
   "source": [
    "img_ = torch.tensor(img_arr, dtype=torch.float32)\n",
    "out = model.forward(img_)\n",
    "pred_box = out[0].squeeze(0)\n",
    "pred_tgt = out[1].squeeze(0).squeeze(1)\n",
    "s_box = torch.zeros_like(box_t)\n",
    "\n",
    "k = topk(pred_tgt,1)\n",
    "label = k[0].tolist()\n",
    "lbl = [str(l) for l in label]\n",
    "s_box[:,0] = box_t[:,0]*pred_box[k[1],0]\n",
    "s_box[:,1] = box_t[:,1]*pred_box[k[1],1]\n",
    "s_box[:,2] = box_t[:,2]*pred_box[k[1],0]\n",
    "s_box[:,3] = box_t[:,3]*pred_box[k[1],1]\n",
    "pd_tensor = draw_bounding_boxes(p_it,s_box , labels=lbl, width=4)\n",
    "dp_arr = np.array(pd_tensor.permute(1, 2, 0), dtype=np.uint8)\n",
    "dp_img = Image.fromarray(dp_arr)\n",
    "dp_img.show()"
   ],
   "id": "22c76203b9bed9a2",
   "outputs": [],
   "execution_count": 19
  },
  {
   "metadata": {
    "ExecuteTime": {
     "end_time": "2024-09-15T03:30:48.702932Z",
     "start_time": "2024-09-15T03:30:48.693837Z"
    }
   },
   "cell_type": "code",
   "source": "s_box,box_t",
   "id": "ea791fadcdfc1e1f",
   "outputs": [
    {
     "data": {
      "text/plain": [
       "(tensor([[109.1005,  89.7413, 326.0180, 513.9728]], grad_fn=<CopySlices>),\n",
       " tensor([[108.8000,  89.6815, 325.1200, 513.6306]]))"
      ]
     },
     "execution_count": 9,
     "metadata": {},
     "output_type": "execute_result"
    }
   ],
   "execution_count": 9
  },
  {
   "metadata": {
    "ExecuteTime": {
     "end_time": "2024-09-14T14:49:47.207041Z",
     "start_time": "2024-09-14T14:49:47.182376Z"
    }
   },
   "cell_type": "code",
   "source": "",
   "id": "a988d70ea8289e43",
   "outputs": [
    {
     "data": {
      "text/plain": [
       "torch.Size([750, 2])"
      ]
     },
     "execution_count": 22,
     "metadata": {},
     "output_type": "execute_result"
    }
   ],
   "execution_count": 22
  },
  {
   "metadata": {
    "ExecuteTime": {
     "end_time": "2024-09-14T14:50:22.963087Z",
     "start_time": "2024-09-14T14:50:22.940175Z"
    }
   },
   "cell_type": "code",
   "source": "",
   "id": "8f544ee4505ee712",
   "outputs": [],
   "execution_count": 24
  },
  {
   "metadata": {
    "ExecuteTime": {
     "end_time": "2024-09-14T14:50:24.854959Z",
     "start_time": "2024-09-14T14:50:24.838322Z"
    }
   },
   "cell_type": "code",
   "source": "",
   "id": "5c5c866aacb19e45",
   "outputs": [
    {
     "data": {
      "text/plain": [
       "torch.return_types.topk(\n",
       "values=tensor([0.5453], grad_fn=<TopkBackward0>),\n",
       "indices=tensor([640]))"
      ]
     },
     "execution_count": 25,
     "metadata": {},
     "output_type": "execute_result"
    }
   ],
   "execution_count": 25
  },
  {
   "metadata": {
    "ExecuteTime": {
     "end_time": "2024-09-14T14:53:26.920115Z",
     "start_time": "2024-09-14T14:53:26.913636Z"
    }
   },
   "cell_type": "code",
   "source": "",
   "id": "e9cc35084395ef00",
   "outputs": [],
   "execution_count": 32
  },
  {
   "metadata": {
    "ExecuteTime": {
     "end_time": "2024-09-14T14:54:26.998101Z",
     "start_time": "2024-09-14T14:54:26.991082Z"
    }
   },
   "cell_type": "code",
   "source": "",
   "id": "2ca4e750a3c134b9",
   "outputs": [],
   "execution_count": 35
  },
  {
   "metadata": {
    "ExecuteTime": {
     "end_time": "2024-09-14T14:52:16.845082Z",
     "start_time": "2024-09-14T14:52:16.836105Z"
    }
   },
   "cell_type": "code",
   "source": "",
   "id": "cae16598fe7e729e",
   "outputs": [],
   "execution_count": 29
  },
  {
   "metadata": {
    "ExecuteTime": {
     "end_time": "2024-09-14T14:54:28.682633Z",
     "start_time": "2024-09-14T14:54:28.569145Z"
    }
   },
   "cell_type": "code",
   "source": "",
   "id": "c3bad934c8a9e701",
   "outputs": [],
   "execution_count": 36
  },
  {
   "metadata": {},
   "cell_type": "code",
   "outputs": [],
   "execution_count": null,
   "source": "",
   "id": "bafd64655775627a"
  }
 ],
 "metadata": {
  "kernelspec": {
   "display_name": "Python 3",
   "language": "python",
   "name": "python3"
  },
  "language_info": {
   "codemirror_mode": {
    "name": "ipython",
    "version": 2
   },
   "file_extension": ".py",
   "mimetype": "text/x-python",
   "name": "python",
   "nbconvert_exporter": "python",
   "pygments_lexer": "ipython2",
   "version": "2.7.6"
  }
 },
 "nbformat": 4,
 "nbformat_minor": 5
}
