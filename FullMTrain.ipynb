{
 "cells": [
  {
   "cell_type": "code",
   "id": "initial_id",
   "metadata": {
    "collapsed": true,
    "ExecuteTime": {
     "end_time": "2024-09-15T06:49:34.574912Z",
     "start_time": "2024-09-15T06:49:31.180036Z"
    }
   },
   "source": [
    "\n",
    "import time\n",
    "import gc\n",
    "import torch\n",
    "from torch import optim\n",
    "import numpy as np\n",
    "\n",
    "from PIL import Image\n",
    "import json\n",
    "from pycocotools.coco import COCO\n",
    "from MODEL import COCOObjectDetectionDataset\n",
    "from MODEL import data_loader\n",
    "from torch import optim\n",
    "from AFTER_CONV import train_incrementallymod\n",
    "from    FULLMODEL import MobileNetInspiredDetector, ImprovedBoundingBoxProcessor2"
   ],
   "outputs": [],
   "execution_count": 1
  },
  {
   "metadata": {
    "ExecuteTime": {
     "end_time": "2024-09-15T06:49:34.582392Z",
     "start_time": "2024-09-15T06:49:34.578422Z"
    }
   },
   "cell_type": "code",
   "source": [
    "ann_path = \"D:/image_detection_data/annotation/annotation.json/\"\n",
    "img_path = \"D:/image_detection_data/images/\"\n",
    "import os\n",
    "if not os.path.exists(ann_path):\n",
    "    print(\"Improve\")\n",
    "if not os.path.exists(img_path):\n",
    "    print(\"This also\")"
   ],
   "id": "45e444f0ccabc389",
   "outputs": [],
   "execution_count": 2
  },
  {
   "metadata": {
    "ExecuteTime": {
     "end_time": "2024-09-15T06:49:34.644499Z",
     "start_time": "2024-09-15T06:49:34.639901Z"
    }
   },
   "cell_type": "code",
   "source": [
    "num_classes = 1\n",
    "num_default_boxes = 5\n",
    "batch_size = 10\n",
    "num_epochs = 2\n",
    "checkpoint_interval = 10\n",
    "max_batches_per_run = 10"
   ],
   "id": "8c35690571526a01",
   "outputs": [],
   "execution_count": 3
  },
  {
   "metadata": {
    "ExecuteTime": {
     "end_time": "2024-09-15T06:49:34.670755Z",
     "start_time": "2024-09-15T06:49:34.651958Z"
    }
   },
   "cell_type": "code",
   "source": [
    "model = MobileNetInspiredDetector(num_classes, num_default_boxes,input_ch=3)\n",
    "bbox_processor = ImprovedBoundingBoxProcessor2(num_classes=num_classes)\n",
    "optimizer = optim.Adam(model.parameters(), lr=1e-3)"
   ],
   "id": "26e510bf70ac6777",
   "outputs": [],
   "execution_count": 4
  },
  {
   "metadata": {
    "ExecuteTime": {
     "end_time": "2024-09-15T06:49:34.681048Z",
     "start_time": "2024-09-15T06:49:34.678456Z"
    }
   },
   "cell_type": "code",
   "source": "batch_size = [0,10]",
   "id": "9c952c26ec872fc9",
   "outputs": [],
   "execution_count": 5
  },
  {
   "metadata": {
    "ExecuteTime": {
     "end_time": "2024-09-15T06:49:39.623625Z",
     "start_time": "2024-09-15T06:49:34.694245Z"
    }
   },
   "cell_type": "code",
   "source": [
    "# print(\"Batch size: \", batch_size)\n",
    "\n",
    "image,target,init,end = data_loader(ann_path,img_path,batch_size[0],batch_size[1])\n",
    "\n",
    "while not train_incrementallymod(model = model,loss_file = 'floss.csv',chkpt_file='ultramobileweightsf.ckpt',bbox_processor=bbox_processor,optimizer=optimizer,imgs = image,tgt = target,num_epochs=4,checkpoint_interval=2,max_batches_per_run=10,batch_indices=(0,batch_size[0],batch_size[1])):\n",
    "    print(\"Epochs started.\")\n",
    "\n",
    "    torch.cuda.empty_cache()\n",
    "    gc.collect()\n",
    "    print(\"Restarting training from last checkpoint...\")\n",
    "del image,target,init,end"
   ],
   "id": "7f293e6cfa0a505e",
   "outputs": [
    {
     "name": "stdout",
     "output_type": "stream",
     "text": [
      "loading annotations into memory...\n",
      "Done (t=2.54s)\n",
      "creating index...\n",
      "index created!\n",
      "The shape of location coor is torch.Size([1, 120, 5, 5])\n",
      "The shape of location coor is torch.Size([1, 120, 5, 5])\n",
      "The shape of locations list. torch.Size([1, 10, 10, 10])\n",
      "The shape of loc and conf are  torch.Size([1, 750, 2]) torch.Size([1, 750, 1])\n",
      "The location loss is  tensor(1200.6194, device='cuda:0', grad_fn=<SmoothL1LossBackward0>)\n",
      "Reached here.\n",
      "Batch loss:  tensor(0.2868, device='cuda:0', dtype=torch.float64, grad_fn=<DivBackward0>)\n"
     ]
    },
    {
     "ename": "RuntimeError",
     "evalue": "one of the variables needed for gradient computation has been modified by an inplace operation: [torch.cuda.FloatTensor [1, 750]], which is output 0 of AsStridedBackward0, is at version 4; expected version 3 instead. Hint: enable anomaly detection to find the operation that failed to compute its gradient, with torch.autograd.set_detect_anomaly(True).",
     "output_type": "error",
     "traceback": [
      "\u001B[1;31m---------------------------------------------------------------------------\u001B[0m",
      "\u001B[1;31mRuntimeError\u001B[0m                              Traceback (most recent call last)",
      "Cell \u001B[1;32mIn[6], line 5\u001B[0m\n\u001B[0;32m      1\u001B[0m \u001B[38;5;66;03m# print(\"Batch size: \", batch_size)\u001B[39;00m\n\u001B[0;32m      3\u001B[0m image,target,init,end \u001B[38;5;241m=\u001B[39m data_loader(ann_path,img_path,batch_size[\u001B[38;5;241m0\u001B[39m],batch_size[\u001B[38;5;241m1\u001B[39m])\n\u001B[1;32m----> 5\u001B[0m \u001B[38;5;28;01mwhile\u001B[39;00m \u001B[38;5;129;01mnot\u001B[39;00m train_incrementallymod(model \u001B[38;5;241m=\u001B[39m model,loss_file \u001B[38;5;241m=\u001B[39m \u001B[38;5;124m'\u001B[39m\u001B[38;5;124mfloss.csv\u001B[39m\u001B[38;5;124m'\u001B[39m,chkpt_file\u001B[38;5;241m=\u001B[39m\u001B[38;5;124m'\u001B[39m\u001B[38;5;124multramobileweightsf.ckpt\u001B[39m\u001B[38;5;124m'\u001B[39m,bbox_processor\u001B[38;5;241m=\u001B[39mbbox_processor,optimizer\u001B[38;5;241m=\u001B[39moptimizer,imgs \u001B[38;5;241m=\u001B[39m image,tgt \u001B[38;5;241m=\u001B[39m target,num_epochs\u001B[38;5;241m=\u001B[39m\u001B[38;5;241m4\u001B[39m,checkpoint_interval\u001B[38;5;241m=\u001B[39m\u001B[38;5;241m2\u001B[39m,max_batches_per_run\u001B[38;5;241m=\u001B[39m\u001B[38;5;241m10\u001B[39m,batch_indices\u001B[38;5;241m=\u001B[39m(\u001B[38;5;241m0\u001B[39m,batch_size[\u001B[38;5;241m0\u001B[39m],batch_size[\u001B[38;5;241m1\u001B[39m])):\n\u001B[0;32m      6\u001B[0m     \u001B[38;5;28mprint\u001B[39m(\u001B[38;5;124m\"\u001B[39m\u001B[38;5;124mEpochs started.\u001B[39m\u001B[38;5;124m\"\u001B[39m)\n\u001B[0;32m      8\u001B[0m     torch\u001B[38;5;241m.\u001B[39mcuda\u001B[38;5;241m.\u001B[39mempty_cache()\n",
      "File \u001B[1;32mC:\\ankit\\DataspellProjects\\ULTRAMOBILE\\AFTER_CONV.py:61\u001B[0m, in \u001B[0;36mtrain_incrementallymod\u001B[1;34m(model, loss_file, chkpt_file, bbox_processor, optimizer, imgs, tgt, num_epochs, checkpoint_interval, max_batches_per_run, batch_indices)\u001B[0m\n\u001B[0;32m     59\u001B[0m predictions \u001B[38;5;241m=\u001B[39m model(images)\n\u001B[0;32m     60\u001B[0m loss \u001B[38;5;241m=\u001B[39m bbox_processor\u001B[38;5;241m.\u001B[39mloss_forward(predictions\u001B[38;5;241m=\u001B[39mpredictions, targets\u001B[38;5;241m=\u001B[39mtargets)\n\u001B[1;32m---> 61\u001B[0m loss\u001B[38;5;241m.\u001B[39mbackward()\n\u001B[0;32m     62\u001B[0m optimizer\u001B[38;5;241m.\u001B[39mstep()\n\u001B[0;32m     63\u001B[0m loss_dict[batch_idx] \u001B[38;5;241m=\u001B[39m loss\u001B[38;5;241m.\u001B[39mitem()\n",
      "File \u001B[1;32m~\\anaconda3\\Lib\\site-packages\\torch\\_tensor.py:521\u001B[0m, in \u001B[0;36mTensor.backward\u001B[1;34m(self, gradient, retain_graph, create_graph, inputs)\u001B[0m\n\u001B[0;32m    511\u001B[0m \u001B[38;5;28;01mif\u001B[39;00m has_torch_function_unary(\u001B[38;5;28mself\u001B[39m):\n\u001B[0;32m    512\u001B[0m     \u001B[38;5;28;01mreturn\u001B[39;00m handle_torch_function(\n\u001B[0;32m    513\u001B[0m         Tensor\u001B[38;5;241m.\u001B[39mbackward,\n\u001B[0;32m    514\u001B[0m         (\u001B[38;5;28mself\u001B[39m,),\n\u001B[1;32m   (...)\u001B[0m\n\u001B[0;32m    519\u001B[0m         inputs\u001B[38;5;241m=\u001B[39minputs,\n\u001B[0;32m    520\u001B[0m     )\n\u001B[1;32m--> 521\u001B[0m torch\u001B[38;5;241m.\u001B[39mautograd\u001B[38;5;241m.\u001B[39mbackward(\n\u001B[0;32m    522\u001B[0m     \u001B[38;5;28mself\u001B[39m, gradient, retain_graph, create_graph, inputs\u001B[38;5;241m=\u001B[39minputs\n\u001B[0;32m    523\u001B[0m )\n",
      "File \u001B[1;32m~\\anaconda3\\Lib\\site-packages\\torch\\autograd\\__init__.py:289\u001B[0m, in \u001B[0;36mbackward\u001B[1;34m(tensors, grad_tensors, retain_graph, create_graph, grad_variables, inputs)\u001B[0m\n\u001B[0;32m    284\u001B[0m     retain_graph \u001B[38;5;241m=\u001B[39m create_graph\n\u001B[0;32m    286\u001B[0m \u001B[38;5;66;03m# The reason we repeat the same comment below is that\u001B[39;00m\n\u001B[0;32m    287\u001B[0m \u001B[38;5;66;03m# some Python versions print out the first line of a multi-line function\u001B[39;00m\n\u001B[0;32m    288\u001B[0m \u001B[38;5;66;03m# calls in the traceback and some print out the last line\u001B[39;00m\n\u001B[1;32m--> 289\u001B[0m _engine_run_backward(\n\u001B[0;32m    290\u001B[0m     tensors,\n\u001B[0;32m    291\u001B[0m     grad_tensors_,\n\u001B[0;32m    292\u001B[0m     retain_graph,\n\u001B[0;32m    293\u001B[0m     create_graph,\n\u001B[0;32m    294\u001B[0m     inputs,\n\u001B[0;32m    295\u001B[0m     allow_unreachable\u001B[38;5;241m=\u001B[39m\u001B[38;5;28;01mTrue\u001B[39;00m,\n\u001B[0;32m    296\u001B[0m     accumulate_grad\u001B[38;5;241m=\u001B[39m\u001B[38;5;28;01mTrue\u001B[39;00m,\n\u001B[0;32m    297\u001B[0m )\n",
      "File \u001B[1;32m~\\anaconda3\\Lib\\site-packages\\torch\\autograd\\graph.py:768\u001B[0m, in \u001B[0;36m_engine_run_backward\u001B[1;34m(t_outputs, *args, **kwargs)\u001B[0m\n\u001B[0;32m    766\u001B[0m     unregister_hooks \u001B[38;5;241m=\u001B[39m _register_logging_hooks_on_whole_graph(t_outputs)\n\u001B[0;32m    767\u001B[0m \u001B[38;5;28;01mtry\u001B[39;00m:\n\u001B[1;32m--> 768\u001B[0m     \u001B[38;5;28;01mreturn\u001B[39;00m Variable\u001B[38;5;241m.\u001B[39m_execution_engine\u001B[38;5;241m.\u001B[39mrun_backward(  \u001B[38;5;66;03m# Calls into the C++ engine to run the backward pass\u001B[39;00m\n\u001B[0;32m    769\u001B[0m         t_outputs, \u001B[38;5;241m*\u001B[39margs, \u001B[38;5;241m*\u001B[39m\u001B[38;5;241m*\u001B[39mkwargs\n\u001B[0;32m    770\u001B[0m     )  \u001B[38;5;66;03m# Calls into the C++ engine to run the backward pass\u001B[39;00m\n\u001B[0;32m    771\u001B[0m \u001B[38;5;28;01mfinally\u001B[39;00m:\n\u001B[0;32m    772\u001B[0m     \u001B[38;5;28;01mif\u001B[39;00m attach_logging_hooks:\n",
      "\u001B[1;31mRuntimeError\u001B[0m: one of the variables needed for gradient computation has been modified by an inplace operation: [torch.cuda.FloatTensor [1, 750]], which is output 0 of AsStridedBackward0, is at version 4; expected version 3 instead. Hint: enable anomaly detection to find the operation that failed to compute its gradient, with torch.autograd.set_detect_anomaly(True)."
     ]
    }
   ],
   "execution_count": 6
  },
  {
   "metadata": {
    "ExecuteTime": {
     "end_time": "2024-09-15T04:11:26.770068Z",
     "start_time": "2024-09-15T04:11:26.766453Z"
    }
   },
   "cell_type": "code",
   "source": "",
   "id": "e99db09b4c60b408",
   "outputs": [],
   "execution_count": null
  },
  {
   "metadata": {},
   "cell_type": "code",
   "outputs": [],
   "execution_count": null,
   "source": "",
   "id": "2a9b22933742b990"
  }
 ],
 "metadata": {
  "kernelspec": {
   "display_name": "Python 3",
   "language": "python",
   "name": "python3"
  },
  "language_info": {
   "codemirror_mode": {
    "name": "ipython",
    "version": 2
   },
   "file_extension": ".py",
   "mimetype": "text/x-python",
   "name": "python",
   "nbconvert_exporter": "python",
   "pygments_lexer": "ipython2",
   "version": "2.7.6"
  }
 },
 "nbformat": 4,
 "nbformat_minor": 5
}
